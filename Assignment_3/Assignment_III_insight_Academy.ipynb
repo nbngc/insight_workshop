{
 "cells": [
  {
   "cell_type": "markdown",
   "metadata": {},
   "source": [
    "## 1. Create a variable, paragraph, that has the following content: \"Python is a great language!\", said Fred. \"I don't ever remember having this much fun before.\""
   ]
  },
  {
   "cell_type": "code",
   "execution_count": 13,
   "metadata": {},
   "outputs": [
    {
     "name": "stdout",
     "output_type": "stream",
     "text": [
      "\"Python is a great language!\", said Fred. \"I don´t ever remember having this\n",
      "much fun before.\"\n"
     ]
    }
   ],
   "source": [
    "paragraph = '''\"Python is a great language!\", said Fred. \"I don´t ever remember having this\n",
    "much fun before.\"'''\n",
    "\n",
    "print(paragraph)"
   ]
  },
  {
   "cell_type": "markdown",
   "metadata": {},
   "source": [
    "## 2. Write an if statement to determine whether a variable holding a year is a leap year."
   ]
  },
  {
   "cell_type": "code",
   "execution_count": 14,
   "metadata": {},
   "outputs": [
    {
     "name": "stdout",
     "output_type": "stream",
     "text": [
      "5000 is not a leap year\n"
     ]
    }
   ],
   "source": [
    "def checkLeapYear(year):\n",
    "    if year%4 == 0:\n",
    "        if year%100 == 0:\n",
    "            if year%400==0:\n",
    "                return True\n",
    "            else:\n",
    "                return False\n",
    "        else:\n",
    "            return True\n",
    "    else:\n",
    "        return False\n",
    "\n",
    "year =5000\n",
    "if checkLeapYear(year):\n",
    "    print(\"{0} is a leap year\".format(year))\n",
    "else:\n",
    "    print(\"{0} is not a leap year\".format(year))"
   ]
  },
  {
   "cell_type": "markdown",
   "metadata": {},
   "source": [
    "\n",
    "## 3. Write code that will print out the anagrams (words that use the same letters) from a paragraph of text."
   ]
  },
  {
   "cell_type": "code",
   "execution_count": 15,
   "metadata": {},
   "outputs": [
    {
     "name": "stdout",
     "output_type": "stream",
     "text": [
      "Orginal list of strings:\n",
      "['bcda', 'abce', 'cbda', 'cbea', 'adcb']\n",
      "\n",
      "Anagrams of 'abcd' in the above string: \n",
      "['bcda', 'cbda', 'adcb']\n"
     ]
    }
   ],
   "source": [
    "from collections import Counter  \n",
    "texts = [\"bcda\", \"abce\", \"cbda\", \"cbea\", \"adcb\"]\n",
    "str = \"abcd\"\n",
    "print(\"Orginal list of strings:\")\n",
    "print(texts) \n",
    "result = list(filter(lambda x: (Counter(str) == Counter(x)), texts)) \n",
    "print(\"\\nAnagrams of 'abcd' in the above string: \")\n",
    "print(result)\n"
   ]
  },
  {
   "cell_type": "markdown",
   "metadata": {},
   "source": [
    "## 4. Create a list. Append the names of your colleagues and friends to it. Has the id of the list changed? Sort the list. What is the first item on the list? What is the second item on the list?"
   ]
  },
  {
   "cell_type": "code",
   "execution_count": 16,
   "metadata": {},
   "outputs": [
    {
     "name": "stdout",
     "output_type": "stream",
     "text": [
      "List ID: 140469378902448\n",
      "List ID: 140469378902448\n",
      "First: hari\n",
      "Second: ram\n"
     ]
    }
   ],
   "source": [
    "names = []\n",
    "\n",
    "print(\"List ID:\", id(names))\n",
    "names.append(\"ram\")\n",
    "names.append(\"hari\")\n",
    "names.append(\"shyam\")\n",
    "print(\"List ID:\", id(names))\n",
    "names.sort()\n",
    "print(\"First:\", names[0])\n",
    "print(\"Second:\", names[1])"
   ]
  },
  {
   "cell_type": "markdown",
   "metadata": {},
   "source": [
    "## 5. Create a tuple with your first name, last name, and age. Create a list,people, and append your tuple to it. Make more tuples with thecorresponding information from your friends and append them to thelist. Sort the list. When you learn about sort method, you can use the key parameter to sort by any field in the tuple, first name, last name, or age."
   ]
  },
  {
   "cell_type": "code",
   "execution_count": 17,
   "metadata": {},
   "outputs": [
    {
     "name": "stdout",
     "output_type": "stream",
     "text": [
      "[('First', 'second', 20), ('nbn', 'gc', 23)]\n"
     ]
    }
   ],
   "source": [
    "me = ('nbn', 'gc', 23)\n",
    "people = [me]\n",
    "people.append((\"First\", 'second', 20))\n",
    "people.sort()\n",
    "\n",
    "print(people)"
   ]
  },
  {
   "cell_type": "markdown",
   "metadata": {},
   "source": [
    "## 6. Create a list with the names of friends and colleagues. Search for the name ‘John’ using a for a loop. Print ‘not found’ if you didn't find it."
   ]
  },
  {
   "cell_type": "code",
   "execution_count": 18,
   "metadata": {},
   "outputs": [
    {
     "name": "stdout",
     "output_type": "stream",
     "text": [
      "{'James'}\n"
     ]
    }
   ],
   "source": [
    "names = set([\"Armin\", \"Peter\", \"James\"])\n",
    "top_ten = set([\"Liam\", \"Noah\", \"Elijah\", \"Logan\", \"Mason\", \"James\", \"Aiden\", \"Ethan\", \"Lucas\", \"Jacob\"])\n",
    "common_names = names & top_ten\n",
    "\n",
    "print(common_names)"
   ]
  },
  {
   "cell_type": "markdown",
   "metadata": {},
   "source": [
    "## 7. Create a list of tuples of first name, last name, and age for your friends and colleagues. If you don't know the age, put in None. Calculate the average age, skipping over any None values. Print out each name,followed by old or young if they are above or below the average age."
   ]
  },
  {
   "cell_type": "code",
   "execution_count": 19,
   "metadata": {},
   "outputs": [
    {
     "name": "stdout",
     "output_type": "stream",
     "text": [
      "The average age is: 27.0\n",
      "abc xyz old\n",
      "klm nop young\n",
      "pqr stu unknown\n"
     ]
    }
   ],
   "source": [
    "names = [(\"abc\", \"xyz\", 29), (\"klm\", \"nop\", 25), (\"pqr\", \"stu\", None)]\n",
    "\n",
    "average_age = 0\n",
    "age_counts = 0\n",
    "for (first, second, age) in names:\n",
    "    if age is not None:\n",
    "        average_age += age\n",
    "        age_counts += 1\n",
    "\n",
    "average_age /= age_counts\n",
    "\n",
    "print(\"The average age is:\", average_age)\n",
    "\n",
    "for (first, second, age) in names:\n",
    "    if age is None:\n",
    "        print(first, second, \"unknown\")\n",
    "    elif age >= average_age:\n",
    "        print(first, second, \"old\")\n",
    "    else:\n",
    "        print(first, second, \"young\")"
   ]
  },
  {
   "cell_type": "markdown",
   "metadata": {},
   "source": [
    "## 8. Write a function, is_prime, that takes an integer and returns True if thenumber is prime and False if the number is not prime."
   ]
  },
  {
   "cell_type": "code",
   "execution_count": 20,
   "metadata": {},
   "outputs": [
    {
     "name": "stdout",
     "output_type": "stream",
     "text": [
      "1 is prime False\n",
      "2 is prime True\n",
      "3 is prime True\n",
      "29 is prime True\n"
     ]
    }
   ],
   "source": [
    "def is_prime(number):\n",
    "    if number < 2:\n",
    "        return False\n",
    "    elif number == 2:\n",
    "        return True\n",
    "    elif not number & 1:\n",
    "        return False\n",
    "\n",
    "    for n in range(3, int(number**0.5)+1, 2):\n",
    "        if number % n == 0:\n",
    "            return False\n",
    "\n",
    "    return True\n",
    "\n",
    "print(1, \"is prime\", is_prime(1))\n",
    "print(2, \"is prime\", is_prime(2))\n",
    "print(3, \"is prime\", is_prime(7))\n",
    "print(29, \"is prime\", is_prime(29))\n"
   ]
  },
  {
   "cell_type": "markdown",
   "metadata": {},
   "source": [
    "## 9. Write a binary search function. It should take a sorted sequence and the item it is looking for. It should return the index of the item if found. It should return -1 if the item is not found."
   ]
  },
  {
   "cell_type": "code",
   "execution_count": 21,
   "metadata": {},
   "outputs": [
    {
     "name": "stdout",
     "output_type": "stream",
     "text": [
      "[1, 2, 3, 6, 7, 8, 11, 42]\n",
      "6 is at index 3\n",
      "4 is at index -1\n"
     ]
    }
   ],
   "source": [
    "import math\n",
    "\n",
    "def binary_search(collection, item):\n",
    "    left = 0\n",
    "    right = len(collection) - 1\n",
    "\n",
    "    while True:\n",
    "        if left > right:\n",
    "            return -1\n",
    "        middle = math.floor((left + right) / 2)\n",
    "        if collection[middle] < item:\n",
    "            left = middle + 1\n",
    "        elif collection[middle] > item:\n",
    "            right = middle - 1\n",
    "        elif collection[middle] == item:\n",
    "            return middle\n",
    "\n",
    "\n",
    "\n",
    "sequence = sorted([1, 6, 8, 3, 2, 7, 11, 42])\n",
    "\n",
    "print(sequence)\n",
    "\n",
    "first_index = binary_search(sequence, 6)\n",
    "second_index = binary_search(sequence, 4)\n",
    "\n",
    "print(6, \"is at index\", first_index)\n",
    "print(4, \"is at index\", second_index)"
   ]
  },
  {
   "cell_type": "markdown",
   "metadata": {},
   "source": [
    "## 10. Write a function that takes camel-cased strings (i.e.ThisIsCamelCased), and converts them to snake case (i.e. this_is_camel_cased). Modify the function by adding an argument, separator, so it will also convert to the kebab case (i.e.this-is-camel-case) as well."
   ]
  },
  {
   "cell_type": "code",
   "execution_count": 22,
   "metadata": {},
   "outputs": [
    {
     "name": "stdout",
     "output_type": "stream",
     "text": [
      "this_is_camel_cased\n",
      "this-is-camel-cased\n"
     ]
    }
   ],
   "source": [
    "def case_converter(text, seperator = \"_\"):\n",
    "    new_text = []\n",
    "    for index, letter in enumerate(text):\n",
    "        if letter.isupper():\n",
    "            if not index == 0:\n",
    "                new_text.append(seperator)\n",
    "            new_text.append(letter.lower())\n",
    "        else:\n",
    "            new_text.append(letter)\n",
    "\n",
    "    return \"\".join(new_text)\n",
    "\n",
    "\n",
    "name = \"ThisIsCamelCased\"\n",
    "\n",
    "snake_case = case_converter(name)\n",
    "kebab_case = case_converter(name, \"-\")\n",
    "\n",
    "print(snake_case)\n",
    "print(kebab_case)"
   ]
  },
  {
   "cell_type": "markdown",
   "metadata": {},
   "source": [
    "## 11. Create a variable, filename. Assuming that it has a three-letter extension, and using slice operations, find the extension. For README.txt, the extension should be txt. Write code using slice operations that will give the name without the extension. Does your code work on filenames of arbitrary length?"
   ]
  },
  {
   "cell_type": "code",
   "execution_count": 23,
   "metadata": {},
   "outputs": [
    {
     "name": "stdout",
     "output_type": "stream",
     "text": [
      "README.txt\n",
      "README\n",
      "txt\n"
     ]
    }
   ],
   "source": [
    "\n",
    "def filename(filename):\n",
    "    return filename[:-4]\n",
    "\n",
    "def extension(filename):\n",
    "    return filename[-3:]\n",
    "\n",
    "\n",
    "fullname = \"README.txt\"\n",
    "\n",
    "print(fullname)\n",
    "print(filename(fullname))\n",
    "print(extension(fullname))"
   ]
  },
  {
   "cell_type": "markdown",
   "metadata": {},
   "source": [
    "## 12. Create a function, is_palindroe, to determine if a supplied word is the same if the letters are reversed."
   ]
  },
  {
   "cell_type": "code",
   "execution_count": 24,
   "metadata": {},
   "outputs": [
    {
     "name": "stdout",
     "output_type": "stream",
     "text": [
      "anna is a palindrome True\n",
      "car is a palindrome False\n",
      "Racecar is a palindrome True\n",
      "computer is a palindrome False\n"
     ]
    }
   ],
   "source": [
    "\n",
    "def is_palindrome(text):\n",
    "    left = 0\n",
    "    right = len(text)-1\n",
    "    while True:\n",
    "        if right < left:\n",
    "            return True\n",
    "        if text[left].lower() == text[right].lower():\n",
    "            left += 1\n",
    "            right -= 1\n",
    "        else:\n",
    "            return False\n",
    "\n",
    "\n",
    "print(\"anna\", \"is a palindrome\", is_palindrome(\"anna\"))\n",
    "print(\"car\", \"is a palindrome\", is_palindrome(\"car\"))\n",
    "print(\"Racecar\", \"is a palindrome\", is_palindrome(\"Racecar\"))\n",
    "print(\"computer\", \"is a palindrome\", is_palindrome(\"computer\"))"
   ]
  },
  {
   "cell_type": "markdown",
   "metadata": {},
   "source": [
    "## 13. Write a function to write a comma-separated value (CSV) file. It should accept a filename and a list of tuples as parameters. The tuples should have a name, address, and age. The file should create a header row followed by a row for each tuple. If the following list of tuples was passed in: \n",
    "[('George', '4312 Abbey Road', 22), ('John', '54 Love Ave', 21)]\n",
    "it should write the following in the file: name,address,age George,4312 Abbey Road,22 John,54 Love Ave,21"
   ]
  },
  {
   "cell_type": "code",
   "execution_count": 25,
   "metadata": {},
   "outputs": [],
   "source": [
    "\n",
    "import csv\n",
    "\n",
    "\n",
    "def csv_file(filename, my_tuple):\n",
    "    fields = ['Name', 'Address', 'Age']\n",
    "    # writing to csv file\n",
    "    with open(filename, 'w') as file:\n",
    "        # creating a csv writer object\n",
    "        writer = csv.writer(file)\n",
    "        writer.writerow(fields)\n",
    "        writer.writerows(my_tuple)\n",
    "\n",
    "\n",
    "csv_file('peoples_record.csv', [('George', '4312 Abbey Road', 22), ('John', '54 Love Ave', 21),\n",
    "                                      ('Paul', '2020 Park Ave', 23)])"
   ]
  },
  {
   "cell_type": "markdown",
   "metadata": {},
   "source": [
    "## 14. Write a function that reads a CSV file. It should return a list of dictionaries, using the first row as key names, and each subsequent row as values for those keys.\n",
    "For the data in the previous example it would return:\n",
    "\n",
    "[{'name': 'George', 'address': '4312 Abbey Road', 'age': 22}, {'name':\n",
    "'John', 'address': '54 Love Ave', 'age': 21}]"
   ]
  },
  {
   "cell_type": "code",
   "execution_count": 26,
   "metadata": {},
   "outputs": [
    {
     "name": "stdout",
     "output_type": "stream",
     "text": [
      "{'Name': 'George', 'Address': '4312 Abbey Road', 'Age': '22'}\n",
      "{'Name': 'John', 'Address': '54 Love Ave', 'Age': '21'}\n",
      "{'Name': 'Paul', 'Address': '2020 Park Ave', 'Age': '23'}\n"
     ]
    }
   ],
   "source": [
    "# Write a function that reads a CSV file. It should return a list of\n",
    "# dictionaries, using the first row as key names, and each subsequent\n",
    "# row as values for those keys.\n",
    "\n",
    "import csv\n",
    "\n",
    "\n",
    "def csv_read():\n",
    "    with open(\"peoples_record.csv\", 'r') as file:\n",
    "        for line in csv.DictReader(file):\n",
    "            print(dict(line))\n",
    "\n",
    "\n",
    "csv_read()"
   ]
  },
  {
   "cell_type": "markdown",
   "metadata": {},
   "source": [
    "## 15. Imagine you are designing a banking application. What would a customer look like? What attributes would she have? What methods would she have?"
   ]
  },
  {
   "cell_type": "code",
   "execution_count": 27,
   "metadata": {},
   "outputs": [
    {
     "name": "stdout",
     "output_type": "stream",
     "text": [
      "Enter amount to be Deposited: \n",
      "Hello!!! Welcome to my Banking Application\n"
     ]
    },
    {
     "ename": "ValueError",
     "evalue": "could not convert string to float: ",
     "output_type": "error",
     "traceback": [
      "\u001b[0;31m---------------------------------------------------------------------------\u001b[0m",
      "\u001b[0;31mValueError\u001b[0m                                Traceback (most recent call last)",
      "\u001b[0;32m<ipython-input-27-2111252866e6>\u001b[0m in \u001b[0;36m<module>\u001b[0;34m()\u001b[0m\n\u001b[1;32m     23\u001b[0m \u001b[0;34m\u001b[0m\u001b[0m\n\u001b[1;32m     24\u001b[0m \u001b[0ms\u001b[0m \u001b[0;34m=\u001b[0m \u001b[0mBankAccount\u001b[0m\u001b[0;34m(\u001b[0m\u001b[0;34m)\u001b[0m\u001b[0;34m\u001b[0m\u001b[0;34m\u001b[0m\u001b[0m\n\u001b[0;32m---> 25\u001b[0;31m \u001b[0ms\u001b[0m\u001b[0;34m.\u001b[0m\u001b[0mdeposit\u001b[0m\u001b[0;34m(\u001b[0m\u001b[0;34m)\u001b[0m\u001b[0;34m\u001b[0m\u001b[0;34m\u001b[0m\u001b[0m\n\u001b[0m\u001b[1;32m     26\u001b[0m \u001b[0ms\u001b[0m\u001b[0;34m.\u001b[0m\u001b[0mwithdraw\u001b[0m\u001b[0;34m(\u001b[0m\u001b[0;34m)\u001b[0m\u001b[0;34m\u001b[0m\u001b[0;34m\u001b[0m\u001b[0m\n\u001b[1;32m     27\u001b[0m \u001b[0ms\u001b[0m\u001b[0;34m.\u001b[0m\u001b[0mdisplay\u001b[0m\u001b[0;34m(\u001b[0m\u001b[0;34m)\u001b[0m\u001b[0;34m\u001b[0m\u001b[0;34m\u001b[0m\u001b[0m\n",
      "\u001b[0;32m<ipython-input-27-2111252866e6>\u001b[0m in \u001b[0;36mdeposit\u001b[0;34m(self)\u001b[0m\n\u001b[1;32m      6\u001b[0m \u001b[0;34m\u001b[0m\u001b[0m\n\u001b[1;32m      7\u001b[0m     \u001b[0;32mdef\u001b[0m \u001b[0mdeposit\u001b[0m\u001b[0;34m(\u001b[0m\u001b[0mself\u001b[0m\u001b[0;34m)\u001b[0m\u001b[0;34m:\u001b[0m\u001b[0;34m\u001b[0m\u001b[0;34m\u001b[0m\u001b[0m\n\u001b[0;32m----> 8\u001b[0;31m         \u001b[0mamount\u001b[0m \u001b[0;34m=\u001b[0m \u001b[0mfloat\u001b[0m\u001b[0;34m(\u001b[0m\u001b[0minput\u001b[0m\u001b[0;34m(\u001b[0m\u001b[0;34m\"Enter amount to be Deposited: \"\u001b[0m\u001b[0;34m)\u001b[0m\u001b[0;34m)\u001b[0m\u001b[0;34m\u001b[0m\u001b[0;34m\u001b[0m\u001b[0m\n\u001b[0m\u001b[1;32m      9\u001b[0m         \u001b[0mself\u001b[0m\u001b[0;34m.\u001b[0m\u001b[0mbalance\u001b[0m \u001b[0;34m+=\u001b[0m \u001b[0mamount\u001b[0m\u001b[0;34m\u001b[0m\u001b[0;34m\u001b[0m\u001b[0m\n\u001b[1;32m     10\u001b[0m         \u001b[0mprint\u001b[0m\u001b[0;34m(\u001b[0m\u001b[0;34m\"\\n Amount Deposited:\"\u001b[0m\u001b[0;34m,\u001b[0m \u001b[0mamount\u001b[0m\u001b[0;34m)\u001b[0m\u001b[0;34m\u001b[0m\u001b[0;34m\u001b[0m\u001b[0m\n",
      "\u001b[0;31mValueError\u001b[0m: could not convert string to float: "
     ]
    }
   ],
   "source": [
    "\n",
    "class BankAccount:\n",
    "    def __init__(self):\n",
    "        self.balance = 0\n",
    "        print(\"Hello!!! Welcome to my Banking Application\")\n",
    "\n",
    "    def deposit(self):\n",
    "        amount = float(input(\"Enter amount to be Deposited: \"))\n",
    "        self.balance += amount\n",
    "        print(\"\\n Amount Deposited:\", amount)\n",
    "\n",
    "    def withdraw(self):\n",
    "        amount = float(input(\"Enter amount to be Withdrawn: \"))\n",
    "        if self.balance >= amount:\n",
    "            self.balance -= amount\n",
    "            print(\"\\n You Withdrew:\", amount)\n",
    "        else:\n",
    "            print(\"\\n Insufficient balance  \")\n",
    "\n",
    "    def display(self):\n",
    "        print(\"\\n Net Available Balance=\", self.balance)\n",
    "\n",
    "\n",
    "s = BankAccount()\n",
    "s.deposit()\n",
    "s.withdraw()\n",
    "s.display()"
   ]
  },
  {
   "cell_type": "markdown",
   "metadata": {},
   "source": [
    "## 16. Imagine you are creating a Super Mario game. You need to define a class to represent Mario. What would it look like? If you aren't familiar with SuperMario, use your own favorite video or board game to model a player"
   ]
  },
  {
   "cell_type": "code",
   "execution_count": 28,
   "metadata": {},
   "outputs": [],
   "source": [
    "\n",
    "class Mario:\n",
    "    '''Super Mario'''\n",
    "\n",
    "    def __init__(self):\n",
    "        self._lives = 3\n",
    "        self._speed = 10\n",
    "        self._jumpheight = 5\n",
    "        self._width = 32\n",
    "        self._height = 64\n",
    "\n",
    "    def draw(self, screen):\n",
    "        return \n",
    "\n",
    "\n",
    "    def update(self, delta_time):\n",
    "        # use jump method if jump button is pressed\n",
    "        # use run if left or right is pressed\n",
    "        return \n",
    "\n",
    "\n",
    "    def move(self, direction):\n",
    "        # use speed and move in the specified direction\n",
    "        return \n",
    "\n",
    "\n",
    "    def jump(self):\n",
    "        # use jump height to determine the height\n",
    "        return \n",
    "\n",
    "\n",
    "    def collides(self, other):\n",
    "        # use width and height to determine if mario collides with object\n",
    "        return "
   ]
  },
  {
   "cell_type": "markdown",
   "metadata": {},
   "source": [
    "## 17. Write a program that serves as a basic calculator. It asks for two numbers, then it asks for an operator. Gracefully deal with input that doesn't cleanly convert to numbers. Deal with division by zero errors."
   ]
  },
  {
   "cell_type": "code",
   "execution_count": 29,
   "metadata": {},
   "outputs": [
    {
     "name": "stdout",
     "output_type": "stream",
     "text": [
      "Enter a number: \n"
     ]
    },
    {
     "ename": "ValueError",
     "evalue": "invalid literal for int() with base 10: ''",
     "output_type": "error",
     "traceback": [
      "\u001b[0;31m---------------------------------------------------------------------------\u001b[0m",
      "\u001b[0;31mValueError\u001b[0m                                Traceback (most recent call last)",
      "\u001b[0;32m<ipython-input-29-ffbbd6449257>\u001b[0m in \u001b[0;36m<module>\u001b[0;34m()\u001b[0m\n\u001b[1;32m     13\u001b[0m \u001b[0;34m\u001b[0m\u001b[0m\n\u001b[1;32m     14\u001b[0m \u001b[0;34m\u001b[0m\u001b[0m\n\u001b[0;32m---> 15\u001b[0;31m \u001b[0mn1\u001b[0m \u001b[0;34m=\u001b[0m \u001b[0mint\u001b[0m\u001b[0;34m(\u001b[0m\u001b[0minput\u001b[0m\u001b[0;34m(\u001b[0m\u001b[0;34m\"Enter a number: \"\u001b[0m\u001b[0;34m)\u001b[0m\u001b[0;34m)\u001b[0m\u001b[0;34m\u001b[0m\u001b[0;34m\u001b[0m\u001b[0m\n\u001b[0m\u001b[1;32m     16\u001b[0m \u001b[0mn2\u001b[0m \u001b[0;34m=\u001b[0m \u001b[0mint\u001b[0m\u001b[0;34m(\u001b[0m\u001b[0minput\u001b[0m\u001b[0;34m(\u001b[0m\u001b[0;34m\"Enter another number: \"\u001b[0m\u001b[0;34m)\u001b[0m\u001b[0;34m)\u001b[0m\u001b[0;34m\u001b[0m\u001b[0;34m\u001b[0m\u001b[0m\n\u001b[1;32m     17\u001b[0m \u001b[0moperator\u001b[0m \u001b[0;34m=\u001b[0m \u001b[0minput\u001b[0m\u001b[0;34m(\u001b[0m\u001b[0;34m\"Enter a operator: \"\u001b[0m\u001b[0;34m)\u001b[0m\u001b[0;34m\u001b[0m\u001b[0;34m\u001b[0m\u001b[0m\n",
      "\u001b[0;31mValueError\u001b[0m: invalid literal for int() with base 10: ''"
     ]
    }
   ],
   "source": [
    "def calculator(num1, num2, op):\n",
    "    if op == \"+\":\n",
    "        return num1 + num2\n",
    "    elif op == \"-\":\n",
    "        return num1 - num2\n",
    "    elif op == \"*\":\n",
    "        return num1 * num2\n",
    "    else:\n",
    "        try:\n",
    "            return num1 / num2\n",
    "        except ZeroDivisionError:\n",
    "            return \"Divide by 0 Error\"\n",
    "\n",
    "\n",
    "n1 = int(input(\"Enter a number: \"))\n",
    "n2 = int(input(\"Enter another number: \"))\n",
    "operator = input(\"Enter a operator: \")\n",
    "print(calculator(n1, n2, operator))"
   ]
  },
  {
   "cell_type": "markdown",
   "metadata": {},
   "source": [
    "## 18. Find a package in the Python standard library for dealing with JSON. Import the library module and inspect the attributes of the module. Use the help function to learn more about how to use the module. Serialize a dictionary mapping 'name' to your name and 'age' to your age, to a JSON string. Deserialize the JSON back into Python."
   ]
  },
  {
   "cell_type": "code",
   "execution_count": 30,
   "metadata": {},
   "outputs": [
    {
     "name": "stdout",
     "output_type": "stream",
     "text": [
      "{'name': 'nbn', 'age': 22}\n"
     ]
    }
   ],
   "source": [
    "import json\n",
    "#help(json)\n",
    "\n",
    "# Serializing\n",
    "info = {\n",
    "  \"name\": \"nbn\",\n",
    "  \"age\": 22\n",
    "}\n",
    "with open(\"info.json\", \"w\") as write_file:\n",
    "    json.dump(info, write_file)\n",
    "\n",
    "# Deserializing\n",
    "with open(\"info.json\", \"r\") as read_file:\n",
    "    result = json.load(read_file)\n",
    "print(result)\n"
   ]
  },
  {
   "cell_type": "markdown",
   "metadata": {},
   "source": [
    "## 19.Write a Python class to find validity of a string of parentheses, '(', ​ ')','{', '}', '[' and ']. These brackets must be close in the correct order, ​ for example \"()\" and \"()[]{}\" are valid but \"[)\", \"({[)]\" and \"{{{\" are invalid"
   ]
  },
  {
   "cell_type": "code",
   "execution_count": 31,
   "metadata": {},
   "outputs": [
    {
     "name": "stdout",
     "output_type": "stream",
     "text": [
      "True\n",
      "False\n",
      "False\n",
      "True\n"
     ]
    }
   ],
   "source": [
    "class CheckerSolution:\n",
    "\n",
    "    @staticmethod\n",
    "    def is_valid(str1):\n",
    "        lst, dict1 = [], {\"(\": \")\", \"{\": \"}\", \"[\": \"]\"}\n",
    "        for p in str1:\n",
    "            if p in dict1:\n",
    "                lst.append(p)\n",
    "            elif len(lst) == 0 or dict1[lst.pop()] is not p:\n",
    "                return False\n",
    "        return len(lst) == 0\n",
    "\n",
    "\n",
    "print(CheckerSolution().is_valid(\"()\"))\n",
    "print(CheckerSolution().is_valid(\"[)\"))\n",
    "print(CheckerSolution().is_valid(\"{{{\"))\n",
    "print(CheckerSolution().is_valid(\"{{{}}}[]()\"))"
   ]
  },
  {
   "cell_type": "markdown",
   "metadata": {},
   "source": [
    "## 20.Write a Python class to find the three elements that sum to zero​ ​ froma list of n real numbers.\n",
    "Input array : [-25, -10, -7, -3, 2, 4, 8, 10]\n",
    "Output : [[-10, 2, 8], [-7, -3, 10]]"
   ]
  },
  {
   "cell_type": "code",
   "execution_count": 32,
   "metadata": {},
   "outputs": [
    {
     "name": "stdout",
     "output_type": "stream",
     "text": [
      "[[-10, 2, 8], [-7, -3, 10]]\n"
     ]
    }
   ],
   "source": [
    "\n",
    "\n",
    "class IsZero:\n",
    "\n",
    "    def my_func(self, my_list):\n",
    "        list1 = []\n",
    "        final= []\n",
    "        for i in range(0, len(my_list)-2):\n",
    "            for j in range(i+1, len(my_list)-1):\n",
    "                for k in range(j+1, len(my_list)):\n",
    "                    if my_list[i] + my_list[j] + my_list[k] == 0:\n",
    "                        list1 = [my_list[i], my_list[j], my_list[k]]\n",
    "                        final.append(list1)\n",
    "        print(final)\n",
    "\n",
    "\n",
    "C1 = IsZero()\n",
    "C1.my_func([-25, -10, -7, -3, 2, 4, 8, 10])"
   ]
  },
  {
   "cell_type": "code",
   "execution_count": null,
   "metadata": {},
   "outputs": [],
   "source": []
  }
 ],
 "metadata": {
  "kernelspec": {
   "display_name": "Python 3",
   "language": "python",
   "name": "python3"
  },
  "language_info": {
   "codemirror_mode": {
    "name": "ipython",
    "version": 3
   },
   "file_extension": ".py",
   "mimetype": "text/x-python",
   "name": "python",
   "nbconvert_exporter": "python",
   "pygments_lexer": "ipython3",
   "version": "3.7.9"
  }
 },
 "nbformat": 4,
 "nbformat_minor": 4
}
