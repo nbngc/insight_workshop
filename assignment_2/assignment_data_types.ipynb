{
 "cells": [
  {
   "cell_type": "markdown",
   "metadata": {},
   "source": [
    "## 1.​ Write a Python program to count the number of characters (character frequency) in a string. \n",
    "    Sample String : google.com'\n",
    "    Expected Result : {'o': 3, 'g': 2, '.': 1, 'e': 1, 'l': 1, 'm': 1, 'c': 1}"
   ]
  },
  {
   "cell_type": "code",
   "execution_count": 1,
   "metadata": {},
   "outputs": [
    {
     "name": "stdout",
     "output_type": "stream",
     "text": [
      "Given String: google.com\n",
      "Frequency of each character :\n",
      "  {'g': 2, 'o': 3, 'l': 1, 'e': 1, '.': 1, 'c': 1, 'm': 1}\n"
     ]
    }
   ],
   "source": [
    "# stringInput = input(\"Please input a string:\")\n",
    "stringA = 'google.com'\n",
    "print(\"Given String:\", stringA)\n",
    "\n",
    "# characterList = list(stringA)\n",
    "# print(characterList)\n",
    "\n",
    "# count_dict={}\n",
    "\n",
    "# for i in characterList:\n",
    "#     count_dict = {i: characterList.count(i)}\n",
    "#     print(count_dict)\n",
    "\n",
    "\n",
    "count_dict ={i: stringA.count(i) for i in list(stringA)}\n",
    "\n",
    "print(\"Frequency of each character :\\n \",count_dict)\n",
    "    "
   ]
  },
  {
   "cell_type": "markdown",
   "metadata": {},
   "source": [
    "## 2.​ Write a Python program to get a string made of the first 2 and the last 2 chars from a given a string. If the string length is less than 2, return instead of the empty string.\n",
    "    Sample String : 'Python'\n",
    "    Expected Result : 'Pyon'\n",
    "    Sample String : 'Py'\n",
    "    Expected Result : 'PyPy'\n",
    "    Sample String : ' w'\n",
    "    Expected Result : Empty String"
   ]
  },
  {
   "cell_type": "code",
   "execution_count": 2,
   "metadata": {},
   "outputs": [
    {
     "name": "stdout",
     "output_type": "stream",
     "text": [
      "pyon\n",
      "pypy\n",
      "Empty String\n"
     ]
    }
   ],
   "source": [
    "def trimmed_string(input_string):\n",
    "    #convert the string into list\n",
    "    input_string_list = list(input_string)\n",
    "    final_string=\"\"\n",
    "    final_list=[]\n",
    "    \n",
    "    if (len(input_string)<2):\n",
    "        final_string = \"Empty String\"\n",
    "        return final_string\n",
    "    else:\n",
    "        final_list = input_string_list[:2] + input_string_list[-2:]\n",
    "        final_string= final_string.join(final_list)\n",
    "#         print(final_string)\n",
    "        return final_string\n",
    "\n",
    "print(trimmed_string('python'))\n",
    "print(trimmed_string('py'))\n",
    "print(trimmed_string('w'))"
   ]
  },
  {
   "cell_type": "markdown",
   "metadata": {},
   "source": [
    "## 3. ​ Write a Python program to get a string from a given string where all occurrences of its first char have been changed to \\'\\$\\' except the first char itself.\n",
    "    Sample String : 'restart'\n",
    "    Expected Result : 'resta$t'"
   ]
  },
  {
   "cell_type": "code",
   "execution_count": 3,
   "metadata": {},
   "outputs": [
    {
     "name": "stdout",
     "output_type": "stream",
     "text": [
      "resta$te$\n"
     ]
    }
   ],
   "source": [
    "inputString = 'restarteR'\n",
    "inputString = inputString[0] + inputString[1:].lower().replace(inputString[0], \"$\")\n",
    "print(inputString)"
   ]
  },
  {
   "cell_type": "markdown",
   "metadata": {},
   "source": [
    "## 4. Write a Python program to get a single string from two given strings, separated by a space and swap the first two characters of each string.\n",
    "    Sample String : 'abc', 'xyz'\n",
    "    Expected Result : 'xyc abz'"
   ]
  },
  {
   "cell_type": "code",
   "execution_count": 4,
   "metadata": {},
   "outputs": [
    {
     "name": "stdout",
     "output_type": "stream",
     "text": [
      "xyc abz\n",
      "<class 'str'>\n"
     ]
    }
   ],
   "source": [
    "# string_1 = input(\"Enter first string:\")\n",
    "# string_2 = input(\"Enter second string:\")\n",
    "string_1 = 'abc'\n",
    "string_2 = 'xyz'\n",
    "\n",
    "combined = string_2[:2] + string_1[2:] +\" \"+ string_1[:2]+string_2[2:]\n",
    "print(combined)\n",
    "# print(type(combined))"
   ]
  },
  {
   "cell_type": "markdown",
   "metadata": {},
   "source": [
    "## 5. Write a Python program to add 'ing' at the end of a given string (length should be at least 3). If the given string already ends with 'ing' then add 'ly' instead. If the string length of the given string is less than 3, leave it unchanged.\n",
    "\n",
    "    Sample String : 'abc'\n",
    "    \n",
    "    Expected Result : 'abcing'\n",
    "    \n",
    "    Sample String : 'string'\n",
    "    \n",
    "    Expected Result : 'stringly'\n",
    "    "
   ]
  },
  {
   "cell_type": "code",
   "execution_count": 16,
   "metadata": {},
   "outputs": [
    {
     "name": "stdout",
     "output_type": "stream",
     "text": [
      "abcing\n",
      "stringly\n",
      "to\n"
     ]
    }
   ],
   "source": [
    "string_1 ='abc'\n",
    "string_2 = 'string'\n",
    "string_3 = 'to'\n",
    "\n",
    "def add_ing(input_string):\n",
    "    if len(input_string) < 3:\n",
    "        return input_string\n",
    "    elif input_string[-3:] == 'ing':\n",
    "        return input_string + 'ly'\n",
    "    else:\n",
    "        return input_string[-3:] + 'ing'\n",
    "\n",
    "print(add_ing(string_1))\n",
    "print(add_ing(string_2))\n",
    "print(add_ing(string_3))"
   ]
  },
  {
   "cell_type": "markdown",
   "metadata": {},
   "source": [
    "## 6. Write a Python program to find the first appearance of the substring 'not' and 'poor' from a given string, if 'not' follows the 'poor', replace the whole 'not'...'poor' substring with 'good'. Return the resulting string.\n",
    "\n",
    "    Sample String : 'The lyrics is not that poor!'\n",
    "\n",
    "    'The lyrics is poor!'\n",
    "\n",
    "    Expected Result : 'The lyrics is good!'\n",
    "\n",
    "    'The lyrics is poor!"
   ]
  },
  {
   "cell_type": "code",
   "execution_count": 6,
   "metadata": {},
   "outputs": [
    {
     "name": "stdout",
     "output_type": "stream",
     "text": [
      "The lyrics is good!\n",
      "the lyrics is poor\n"
     ]
    }
   ],
   "source": [
    "\n",
    "\n",
    "def not_poor(input_string):\n",
    "    str_not = input_string.find('not')\n",
    "    str_poor = input_string.find('poor')\n",
    "    \n",
    "    if str_poor > str_not and str_not > 0 and str_poor >0:\n",
    "        input_string = input_string.replace(input_string[str_not:(str_poor+4)], 'good')\n",
    "        return input_string\n",
    "    elif input_string.find('good'):\n",
    "        input_string = input_string.replace('good', 'poor')\n",
    "        return input_string\n",
    "    else:\n",
    "        return input_string\n",
    "print(not_poor('The lyrics is not that poor!'))\n",
    "print(not_poor('the lyrics is good'))"
   ]
  },
  {
   "cell_type": "code",
   "execution_count": 7,
   "metadata": {},
   "outputs": [
    {
     "name": "stdout",
     "output_type": "stream",
     "text": [
      "The lyrics is good!\n",
      "The lyrics is poor!\n"
     ]
    }
   ],
   "source": [
    "import re\n",
    "\n",
    "a=\"The lyrics is not that poor!\"\n",
    "b='The lyrics is poor!'\n",
    "\n",
    "def good(st):\n",
    "    j=re.findall(r\"not.*poor\",st)\n",
    "    if j==[]:\n",
    "        return st\n",
    "    st=st.replace(j[0],'good')\n",
    "    return st\n",
    "\n",
    "print(good(a))\n",
    "print(good(b))"
   ]
  },
  {
   "cell_type": "markdown",
   "metadata": {},
   "source": [
    "## 7. Write a Python function that takes a list of words and returns the length of the longest one."
   ]
  },
  {
   "cell_type": "code",
   "execution_count": 8,
   "metadata": {},
   "outputs": [
    {
     "name": "stdout",
     "output_type": "stream",
     "text": [
      "length of longest word in the list: 7\n"
     ]
    }
   ],
   "source": [
    "def longest_word(input_list):\n",
    "    len_list = [len((word)) for word in input_list]\n",
    "    return max(len_list)\n",
    "\n",
    "sample_list = ['long', 'longer', 'longest']\n",
    "l = longest_word(sample_list)\n",
    "\n",
    "print(\"length of longest word in the list:\", l)"
   ]
  },
  {
   "cell_type": "markdown",
   "metadata": {},
   "source": [
    " ## 8. Write a Python program to remove the n​ th​ index character from a nonempty string."
   ]
  },
  {
   "cell_type": "code",
   "execution_count": 9,
   "metadata": {},
   "outputs": [
    {
     "name": "stdout",
     "output_type": "stream",
     "text": [
      "ython\n",
      "pthon\n",
      "python\n"
     ]
    },
    {
     "ename": "Exception",
     "evalue": "Character to be removed not within word range",
     "output_type": "error",
     "traceback": [
      "\u001b[0;31m---------------------------------------------------------------------------\u001b[0m",
      "\u001b[0;31mException\u001b[0m                                 Traceback (most recent call last)",
      "\u001b[0;32m<ipython-input-9-0f3b3de2be57>\u001b[0m in \u001b[0;36m<module>\u001b[0;34m()\u001b[0m\n\u001b[1;32m     13\u001b[0m \u001b[0mprint\u001b[0m\u001b[0;34m(\u001b[0m\u001b[0mremove_nth_char\u001b[0m\u001b[0;34m(\u001b[0m\u001b[0;34m'python'\u001b[0m\u001b[0;34m,\u001b[0m \u001b[0;36m1\u001b[0m\u001b[0;34m)\u001b[0m\u001b[0;34m)\u001b[0m\u001b[0;34m\u001b[0m\u001b[0;34m\u001b[0m\u001b[0m\n\u001b[1;32m     14\u001b[0m \u001b[0mprint\u001b[0m\u001b[0;34m(\u001b[0m\u001b[0mremove_nth_char\u001b[0m\u001b[0;34m(\u001b[0m\u001b[0;34m'python'\u001b[0m\u001b[0;34m,\u001b[0m \u001b[0;36m6\u001b[0m\u001b[0;34m)\u001b[0m\u001b[0;34m)\u001b[0m\u001b[0;34m\u001b[0m\u001b[0;34m\u001b[0m\u001b[0m\n\u001b[0;32m---> 15\u001b[0;31m \u001b[0mprint\u001b[0m\u001b[0;34m(\u001b[0m\u001b[0mremove_nth_char\u001b[0m\u001b[0;34m(\u001b[0m\u001b[0;34m'p'\u001b[0m\u001b[0;34m,\u001b[0m \u001b[0;36m4\u001b[0m\u001b[0;34m)\u001b[0m\u001b[0;34m)\u001b[0m\u001b[0;34m\u001b[0m\u001b[0;34m\u001b[0m\u001b[0m\n\u001b[0m\u001b[1;32m     16\u001b[0m \u001b[0mprint\u001b[0m\u001b[0;34m(\u001b[0m\u001b[0mremove_nth_char\u001b[0m\u001b[0;34m(\u001b[0m\u001b[0;34m''\u001b[0m\u001b[0;34m,\u001b[0m \u001b[0;36m0\u001b[0m\u001b[0;34m)\u001b[0m\u001b[0;34m)\u001b[0m\u001b[0;34m\u001b[0m\u001b[0;34m\u001b[0m\u001b[0m\n",
      "\u001b[0;32m<ipython-input-9-0f3b3de2be57>\u001b[0m in \u001b[0;36mremove_nth_char\u001b[0;34m(input_str, n)\u001b[0m\n\u001b[1;32m      3\u001b[0m         \u001b[0;32mraise\u001b[0m \u001b[0mException\u001b[0m\u001b[0;34m(\u001b[0m\u001b[0;34m\"Sorry, empty string not allowed\"\u001b[0m\u001b[0;34m)\u001b[0m\u001b[0;34m\u001b[0m\u001b[0;34m\u001b[0m\u001b[0m\n\u001b[1;32m      4\u001b[0m     \u001b[0;32mif\u001b[0m \u001b[0mn\u001b[0m\u001b[0;34m>\u001b[0m\u001b[0mlen\u001b[0m\u001b[0;34m(\u001b[0m\u001b[0minput_str\u001b[0m\u001b[0;34m)\u001b[0m\u001b[0;34m:\u001b[0m\u001b[0;34m\u001b[0m\u001b[0;34m\u001b[0m\u001b[0m\n\u001b[0;32m----> 5\u001b[0;31m         \u001b[0;32mraise\u001b[0m \u001b[0mException\u001b[0m\u001b[0;34m(\u001b[0m\u001b[0;34m\"Character to be removed not within word range\"\u001b[0m\u001b[0;34m)\u001b[0m\u001b[0;34m\u001b[0m\u001b[0;34m\u001b[0m\u001b[0m\n\u001b[0m\u001b[1;32m      6\u001b[0m     \u001b[0;32melse\u001b[0m\u001b[0;34m:\u001b[0m\u001b[0;34m\u001b[0m\u001b[0;34m\u001b[0m\u001b[0m\n\u001b[1;32m      7\u001b[0m         \u001b[0mupto_n\u001b[0m \u001b[0;34m=\u001b[0m \u001b[0minput_str\u001b[0m\u001b[0;34m[\u001b[0m\u001b[0;34m:\u001b[0m\u001b[0mn\u001b[0m\u001b[0;34m]\u001b[0m\u001b[0;34m\u001b[0m\u001b[0;34m\u001b[0m\u001b[0m\n",
      "\u001b[0;31mException\u001b[0m: Character to be removed not within word range"
     ]
    }
   ],
   "source": [
    "def remove_nth_char(input_str, n):\n",
    "    if len(input_str) < 1:\n",
    "        raise Exception(\"Sorry, empty string not allowed\")\n",
    "    if n>len(input_str):\n",
    "        raise Exception(\"Character to be removed not within word range\")\n",
    "    else:\n",
    "        upto_n = input_str[:n]\n",
    "        after_n = input_str[n+1:]\n",
    "    \n",
    "        return upto_n + after_n\n",
    "\n",
    "print(remove_nth_char('python', 0))\n",
    "print(remove_nth_char('python', 1))\n",
    "print(remove_nth_char('python', 6))\n",
    "print(remove_nth_char('p', 4))\n",
    "print(remove_nth_char('', 0))"
   ]
  },
  {
   "cell_type": "markdown",
   "metadata": {},
   "source": [
    "## 9. Write a Python program to change a given string to a new string where the first and last chars have been exchanged."
   ]
  },
  {
   "cell_type": "code",
   "execution_count": 17,
   "metadata": {},
   "outputs": [
    {
     "name": "stdout",
     "output_type": "stream",
     "text": [
      "nythop\n",
      "2python1\n"
     ]
    }
   ],
   "source": [
    "def change_str(input_str):\n",
    "    new_str = input_str[-1]+ input_str[1:-1] + input_str[0]\n",
    "    return new_str\n",
    "print(change_str('python'))\n",
    "print(change_str('1python2'))"
   ]
  },
  {
   "cell_type": "markdown",
   "metadata": {},
   "source": [
    "## 10. Write a Python program to remove the characters which have odd index values of a given string."
   ]
  },
  {
   "cell_type": "code",
   "execution_count": 19,
   "metadata": {},
   "outputs": [
    {
     "name": "stdout",
     "output_type": "stream",
     "text": [
      "pto\n"
     ]
    }
   ],
   "source": [
    "def del_odd_index(input_str):\n",
    "    new_word = [ch for idx, ch in enumerate(input_str) if idx % 2 == 0]\n",
    "    return \"\".join(new_word)\n",
    "    \n",
    "print(del_odd_index('python'))\n"
   ]
  },
  {
   "cell_type": "markdown",
   "metadata": {},
   "source": [
    "## 11. Write a Python program to count the occurrences of each word in a given sentence"
   ]
  },
  {
   "cell_type": "code",
   "execution_count": 20,
   "metadata": {},
   "outputs": [
    {
     "name": "stdout",
     "output_type": "stream",
     "text": [
      "{'Peter': 4, 'Piper': 4, 'picked': 4, 'a': 2, 'peck': 4, 'of': 4, 'pickled': 4, 'peppers': 4, 'A': 1, 'If': 1, 'Where’s': 1, 'the': 1}\n"
     ]
    }
   ],
   "source": [
    "sample_str = \"Peter Piper picked a peck of pickled peppers A peck of pickled peppers Peter Piper picked If Peter Piper picked a peck of pickled peppers Where’s the peck of pickled peppers Peter Piper picked\"\n",
    "counts ={}\n",
    "word_list = sample_str.split()\n",
    "for word in word_list:\n",
    "    if word in counts:\n",
    "        counts[word] += 1\n",
    "    else:\n",
    "        counts[word] = 1\n",
    "print(counts)\n"
   ]
  },
  {
   "cell_type": "markdown",
   "metadata": {},
   "source": [
    "## 12. Write a Python script that takes input from the user and displays that input back in upper and lower cases."
   ]
  },
  {
   "cell_type": "code",
   "execution_count": 21,
   "metadata": {},
   "outputs": [
    {
     "name": "stdout",
     "output_type": "stream",
     "text": [
      "Please input a string:python\n",
      "PYTHON\n",
      "python\n"
     ]
    }
   ],
   "source": [
    "user_input = input(\"Please input a string:\")\n",
    "print(user_input.upper())\n",
    "print(user_input.lower())"
   ]
  },
  {
   "cell_type": "markdown",
   "metadata": {},
   "source": [
    "## 13. Write a Python program that accepts a comma separated sequence of words as input and prints the unique words in sorted form (alphanumerically).\n",
    "    Sample Words : red, white, black, red, green, black\n",
    "    Expected Result : black, green, red, white,red"
   ]
  },
  {
   "cell_type": "code",
   "execution_count": 28,
   "metadata": {},
   "outputs": [],
   "source": [
    "# user_input_comma = input(\"Enter comma separated word sequence:\")\n",
    "# # user_input_comma = 'red', 'white', 'black', 'red', 'green', 'black'\n",
    "# sorted_word_list = sorted(user_input_comma.split(\",\"))\n",
    "# unique_words = set(sorted_word_list)\n",
    "# print(\",\".join(list(unique_words)))\n",
    "\n"
   ]
  },
  {
   "cell_type": "code",
   "execution_count": 30,
   "metadata": {},
   "outputs": [
    {
     "name": "stdout",
     "output_type": "stream",
     "text": [
      "Input comma separated sequence of words:red, black, pink, green\n",
      " black, green, pink,red\n"
     ]
    }
   ],
   "source": [
    "\n",
    "items = input(\"Input comma separated sequence of words:\")\n",
    "words = [word for word in items.split(\",\")]\n",
    "print(\",\".join(sorted(list(set(words)))))"
   ]
  },
  {
   "cell_type": "markdown",
   "metadata": {},
   "source": [
    "## 14. Write a Python function to create the HTML string with tags around the word(s).\n",
    "    Sample function and result :\n",
    "    add_tags('i', 'Python') -> '<i>Python</i>'\n",
    "    add_tags('b', 'Python Tutorial') -> '<b>Python Tutorial </b>'"
   ]
  },
  {
   "cell_type": "code",
   "execution_count": 31,
   "metadata": {},
   "outputs": [
    {
     "name": "stdout",
     "output_type": "stream",
     "text": [
      "<i>python</i>\n",
      "<b>Python Tutorial</b>\n"
     ]
    }
   ],
   "source": [
    "def add_tags(tag, html_string):\n",
    "    wrapped_html = f\"<{tag}>{html_string}</{tag}>\"\n",
    "    print(wrapped_html)\n",
    "\n",
    "add_tags('i','python')\n",
    "add_tags('b', 'Python Tutorial')"
   ]
  },
  {
   "cell_type": "code",
   "execution_count": null,
   "metadata": {},
   "outputs": [],
   "source": [
    "# def add_tags(tag, word):\n",
    "#     return \"<%s>%s</%s>\" % (tag, word, tag)\n",
    "# print(add_tags('i', 'Python'))\n",
    "# print(add_tags('b', 'Python Tutorial'))"
   ]
  },
  {
   "cell_type": "markdown",
   "metadata": {},
   "source": [
    "## 15.Write a Python function to insert a string in the middle of a string. Sample function and result :\n",
    "    insert_sting_middle('[[]]<<>>', 'Python') -> [[Python]]\n",
    "    insert_sting_middle('{{}}', 'PHP') -> {{PHP}}"
   ]
  },
  {
   "cell_type": "code",
   "execution_count": 67,
   "metadata": {},
   "outputs": [
    {
     "name": "stdout",
     "output_type": "stream",
     "text": [
      "{{python}}\n",
      "<<PHP>>\n",
      "{{rubyonrails}}\n"
     ]
    }
   ],
   "source": [
    "def insert_string_middle(brackets, word):\n",
    "    return brackets[:2] + word + brackets[-2:]\n",
    "    \n",
    "print(insert_string_middle('{{}}','python'))\n",
    "print(insert_string_middle('<<>>', 'PHP'))\n",
    "print(insert_string_middle('{{}}','rubyonrails'))"
   ]
  },
  {
   "cell_type": "markdown",
   "metadata": {},
   "source": [
    "## 16. Write a Python program to sum all the items in a list."
   ]
  },
  {
   "cell_type": "code",
   "execution_count": 33,
   "metadata": {},
   "outputs": [
    {
     "name": "stdout",
     "output_type": "stream",
     "text": [
      "1\n",
      "45\n"
     ]
    }
   ],
   "source": [
    "def sum_list(items):\n",
    "    sum_items = 0\n",
    "    for item in items:\n",
    "        sum_items += item\n",
    "    return sum_items\n",
    "\n",
    "print(sum_list([1,2,3,-5]))\n",
    "print(sum_list([1,2,3,4,5,6,7,8,9]))"
   ]
  },
  {
   "cell_type": "markdown",
   "metadata": {},
   "source": [
    "## 17. Write a Python program to multiplies all the items in a list"
   ]
  },
  {
   "cell_type": "code",
   "execution_count": 34,
   "metadata": {},
   "outputs": [
    {
     "name": "stdout",
     "output_type": "stream",
     "text": [
      "24\n"
     ]
    }
   ],
   "source": [
    "def multiply_list(items):\n",
    "    product = 1\n",
    "    for item in items:\n",
    "        product *= item\n",
    "    return product\n",
    "print(multiply_list([1,2,3,4]))"
   ]
  },
  {
   "cell_type": "markdown",
   "metadata": {},
   "source": [
    "## 18. Write a Python program to get the largest number from a list."
   ]
  },
  {
   "cell_type": "code",
   "execution_count": 35,
   "metadata": {},
   "outputs": [
    {
     "data": {
      "text/plain": [
       "6"
      ]
     },
     "execution_count": 35,
     "metadata": {},
     "output_type": "execute_result"
    }
   ],
   "source": [
    "def largest_num(item_list):\n",
    "    largest = item_list[0]\n",
    "    for item in item_list:\n",
    "        if item > largest:\n",
    "            largest = item \n",
    "    return largest\n",
    "\n",
    "largest_num([1,5,6,2])"
   ]
  },
  {
   "cell_type": "markdown",
   "metadata": {},
   "source": [
    "### 19.​ Write a Python program to get the smallest number from a list."
   ]
  },
  {
   "cell_type": "code",
   "execution_count": 69,
   "metadata": {},
   "outputs": [
    {
     "name": "stdout",
     "output_type": "stream",
     "text": [
      "1\n"
     ]
    }
   ],
   "source": [
    "def smallest_num(item_list):\n",
    "    smallest = item_list[0]\n",
    "    for item in item_list:\n",
    "        if item < smallest:\n",
    "            smallest = item \n",
    "    return smallest\n",
    "\n",
    "print(smallest_num([1,5,6,2]))"
   ]
  },
  {
   "cell_type": "markdown",
   "metadata": {},
   "source": [
    "### 20.​ Write a Python program to count the number of strings where the string length is 2 or more and the first and last character are same from a given list of strings.\n",
    "    Sample List : ['abc', 'xyz', 'aba', '1221']\n",
    "    Expected Result : 2"
   ]
  },
  {
   "cell_type": "code",
   "execution_count": 37,
   "metadata": {},
   "outputs": [
    {
     "name": "stdout",
     "output_type": "stream",
     "text": [
      "2\n"
     ]
    }
   ],
   "source": [
    "def count_first_and_last_same(str_list):\n",
    "    count=0\n",
    "    for item in str_list:\n",
    "        if len(item) >= 2 and item[0] == item[-1]:\n",
    "            count+=1\n",
    "    return count\n",
    "\n",
    "print(count_first_and_last_same(['abc', 'xyz', 'aba', '1221']))"
   ]
  },
  {
   "cell_type": "markdown",
   "metadata": {},
   "source": [
    "### 21.​ Write a Python program to get a list, sorted in increasing order by the last element in each tuple from a given list of non-empty tuples.\n",
    "    Sample List : [(2, 5), (1, 2), (4, 4), (2, 3), (2, 1)]\n",
    "    Expected Result : [(2, 1), (1, 2), (2, 3), (4, 4), (2, 5)]"
   ]
  },
  {
   "cell_type": "code",
   "execution_count": 38,
   "metadata": {},
   "outputs": [
    {
     "name": "stdout",
     "output_type": "stream",
     "text": [
      "[(2, 1), (3, 2), (1, 3)]\n"
     ]
    }
   ],
   "source": [
    "def sort_last_elem(tup):\n",
    "    tup.sort(key=lambda x: x[-1])\n",
    "    return tup\n",
    "\n",
    "tup =[(1,3),(3,2), (2,1)]\n",
    "print(sort_last_elem(tup))"
   ]
  },
  {
   "cell_type": "code",
   "execution_count": 39,
   "metadata": {},
   "outputs": [
    {
     "name": "stdout",
     "output_type": "stream",
     "text": [
      "Sorted:\n",
      "[(2, 1), (1, 2), (2, 3), (4, 4), (2, 5)]\n"
     ]
    }
   ],
   "source": [
    "def last(n):\n",
    "    return n[-1]\n",
    "\n",
    "def sort(tuples):\n",
    "    return sorted(tuples, key=last)\n",
    "\n",
    "a = [(2, 5), (1, 2), (4, 4), (2, 3), (2, 1)]\n",
    "print(\"Sorted:\")\n",
    "print(sort(a))\n"
   ]
  },
  {
   "cell_type": "markdown",
   "metadata": {},
   "source": [
    "## 22. ​ Write a Python program to remove duplicates from a list."
   ]
  },
  {
   "cell_type": "code",
   "execution_count": 40,
   "metadata": {},
   "outputs": [
    {
     "name": "stdout",
     "output_type": "stream",
     "text": [
      "[40, 10, 80, 50, 20, 60, 30]\n",
      "[10, 20, 30, 50, 60, 40, 80]\n"
     ]
    }
   ],
   "source": [
    "a = [10,20,30,20,10,50,60,40,80,50,40]\n",
    "print(list(set(a)))\n",
    "\n",
    "def remove_duplicate(duplicates):\n",
    "    final_list = []\n",
    "    for num in duplicates:\n",
    "        if num not in final_list:\n",
    "            final_list.append(num)\n",
    "    return final_list\n",
    "\n",
    "print(remove_duplicate(a))"
   ]
  },
  {
   "cell_type": "markdown",
   "metadata": {},
   "source": [
    "## 23. ​ Write a Python program to check a list is empty or not."
   ]
  },
  {
   "cell_type": "code",
   "execution_count": 41,
   "metadata": {},
   "outputs": [
    {
     "name": "stdout",
     "output_type": "stream",
     "text": [
      "Empty list\n",
      "Non empty list\n"
     ]
    }
   ],
   "source": [
    "def Enquiry(enquiry_list):\n",
    "    if not enquiry_list:\n",
    "        return \"Empty list\"\n",
    "    else:\n",
    "        return \"Non empty list\"\n",
    "print(Enquiry([]))\n",
    "print(Enquiry([1,2,3]))"
   ]
  },
  {
   "cell_type": "markdown",
   "metadata": {},
   "source": [
    "## 24. ​ Write a Python program to clone or copy a list."
   ]
  },
  {
   "cell_type": "code",
   "execution_count": 42,
   "metadata": {},
   "outputs": [
    {
     "name": "stdout",
     "output_type": "stream",
     "text": [
      "Original list: [4, 8, 2, 10, 18]\n",
      "After Cloning: [4, 8, 2, 10, 18]\n"
     ]
    }
   ],
   "source": [
    "def shallow_copy_list(li):\n",
    "    li_copy = list(li)\n",
    "    return li_copy\n",
    "\n",
    "li1 = [4,8,2,10,18]\n",
    "li2 = shallow_copy_list(li1)\n",
    "print(\"Original list:\", li1)\n",
    "print(\"After Cloning:\", li2)"
   ]
  },
  {
   "cell_type": "code",
   "execution_count": 43,
   "metadata": {},
   "outputs": [
    {
     "name": "stdout",
     "output_type": "stream",
     "text": [
      "Original list: [4, 8, 2, 10, 18]\n",
      "After Cloning: [4, 8, 2, 10, 18]\n"
     ]
    }
   ],
   "source": [
    "import copy\n",
    "def deep_copy_list(li):\n",
    "#     li_copy = copy.copy(li) #Shallow copy\n",
    "    li_copy = copy.deepcopy(li)\n",
    "    return li_copy\n",
    "\n",
    "li1 = [4,8,2,10,18]\n",
    "li2 = deep_copy_list(li1)\n",
    "print(\"Original list:\", li1)\n",
    "print(\"After Cloning:\", li2)"
   ]
  },
  {
   "cell_type": "markdown",
   "metadata": {},
   "source": [
    "## 25.​ Write a Python program to check whether all dictionaries in a list are empty or not\n",
    "\n",
    "    Sample list : [{},{},{}]\n",
    "    Return value : True\n",
    "    Sample list : [{1,2},{},{}]\n",
    "    Return value : False"
   ]
  },
  {
   "cell_type": "code",
   "execution_count": 44,
   "metadata": {},
   "outputs": [
    {
     "name": "stdout",
     "output_type": "stream",
     "text": [
      "True\n",
      "False\n",
      "False\n"
     ]
    }
   ],
   "source": [
    "def check_dict_empty_in_list(my_list):\n",
    "    for d in my_list:\n",
    "        if not d:\n",
    "            return True\n",
    "        else:\n",
    "            return False\n",
    "print(check_dict_empty_in_list([{},{},{}]))\n",
    "print(check_dict_empty_in_list([{1,2},{},{}]))\n",
    "print(check_dict_empty_in_list([{1,2},{2,5}]))"
   ]
  },
  {
   "cell_type": "markdown",
   "metadata": {},
   "source": [
    "## 26.​ Write a Python program to insert a given string at the beginning of all items in a list.\n",
    "    Sample list : [1,2,3,4], string : emp\n",
    "    Expected output : ['emp1', 'emp2', 'emp3', 'emp4']"
   ]
  },
  {
   "cell_type": "code",
   "execution_count": 45,
   "metadata": {},
   "outputs": [
    {
     "name": "stdout",
     "output_type": "stream",
     "text": [
      "['emp1', 'emp2', 'emp3', 'emp4']\n"
     ]
    }
   ],
   "source": [
    "def insert_word_into_list_items(lst, word):\n",
    "    return ['{}{}'.format(word,i) for i in lst]\n",
    "print(insert_word_into_list_items([1,2,3,4], 'emp'))"
   ]
  },
  {
   "cell_type": "markdown",
   "metadata": {},
   "source": [
    "## 27.​ Write a Python program to replace the last element in a list with another list.\n",
    "    Sample data : [1, 3, 5, 7, 9, 10], [2, 4, 6, 8]\n",
    "    Expected Output: [1, 3, 5, 7, 9, 2, 4, 6, 8]"
   ]
  },
  {
   "cell_type": "code",
   "execution_count": 46,
   "metadata": {},
   "outputs": [
    {
     "name": "stdout",
     "output_type": "stream",
     "text": [
      "[1, 3, 5, 7, 9, 2, 4, 6, 8]\n"
     ]
    }
   ],
   "source": [
    "def replace_last_elem_list(lst1, lst2):\n",
    "    return lst1[:-1]+lst2\n",
    "#     lst1[-1:] = lst2\n",
    "#     return lst1\n",
    "    \n",
    "print(replace_last_elem_list([1,3,5,7,9,10], [2,4,6,8]))"
   ]
  },
  {
   "cell_type": "markdown",
   "metadata": {},
   "source": [
    "## 28.Write a Python script to add a key to a dictionary.\n",
    "    Sample Dictionary : {0: 10, 1: 20}\n",
    "    Expected Result : {0: 10, 1: 20, 2: 30}"
   ]
  },
  {
   "cell_type": "code",
   "execution_count": 70,
   "metadata": {},
   "outputs": [
    {
     "name": "stdout",
     "output_type": "stream",
     "text": [
      "{0: 10, 1: 20}\n",
      "{0: 10, 1: 20, 2: 30}\n"
     ]
    }
   ],
   "source": [
    "d = {0:10, 1:20}\n",
    "print(d)\n",
    "d.update({2:30})\n",
    "print(d)\n",
    "\n",
    "    "
   ]
  },
  {
   "cell_type": "markdown",
   "metadata": {},
   "source": [
    "### 29.​ Write a Python script to concatenate following dictionaries to create a new one\n",
    "    Sample Dictionary :\n",
    "    dic1={1:10, 2:20}\n",
    "    dic2={3:30, 4:40}\n",
    "    dic3={5:50,6:60}\n",
    "    Expected Result : {1: 10, 2: 20, 3: 30, 4: 40, 5: 50, 6: 60}"
   ]
  },
  {
   "cell_type": "code",
   "execution_count": 48,
   "metadata": {},
   "outputs": [
    {
     "name": "stdout",
     "output_type": "stream",
     "text": [
      "{1: 20, 2: 20, 3: 30, 4: 40, 5: 50, 6: 60}\n",
      "None\n"
     ]
    }
   ],
   "source": [
    "def concat_dict(*args):\n",
    "    dict_final = {}\n",
    "    for arg in args:\n",
    "        dict_final.update(arg)\n",
    "    print(dict_final)\n",
    "    \n",
    "dict1 = {1:20, 2:20}\n",
    "dict2 = {3:30, 4:40}\n",
    "dict3 = {5:50, 6:60}\n",
    "print(concat_dict(dict1,dict2,dict3))\n"
   ]
  },
  {
   "cell_type": "markdown",
   "metadata": {},
   "source": [
    "### 30.​ Write a Python script to check whether a given key already exists in a dictionary."
   ]
  },
  {
   "cell_type": "code",
   "execution_count": 49,
   "metadata": {},
   "outputs": [
    {
     "name": "stdout",
     "output_type": "stream",
     "text": [
      "Present, Value =  200\n",
      "Not Present\n"
     ]
    }
   ],
   "source": [
    "def check_key(dict, key):\n",
    "    if key in dict: #if key in dict.keys()\n",
    "        print(\"Present,\",end=\" \")\n",
    "        print(\"Value = \", dict[key])\n",
    "    else:\n",
    "        print(\"Not Present\")\n",
    "        \n",
    "dict = {'a':100, 'b':200, 'c':300}\n",
    "key ='b'\n",
    "check_key(dict, key)\n",
    "key='w'\n",
    "check_key(dict, key)"
   ]
  },
  {
   "cell_type": "markdown",
   "metadata": {},
   "source": [
    "## 31.Write a Python program to iterate over dictionaries using for loops."
   ]
  },
  {
   "cell_type": "code",
   "execution_count": 50,
   "metadata": {},
   "outputs": [
    {
     "name": "stdout",
     "output_type": "stream",
     "text": [
      "Red : 1\n",
      "Green : 2\n",
      "Blue : 3\n"
     ]
    }
   ],
   "source": [
    "d ={'Red':1, 'Green':2, 'Blue':3}\n",
    "for key,value in d.items():\n",
    "    print(key,\":\",value )"
   ]
  },
  {
   "cell_type": "markdown",
   "metadata": {},
   "source": [
    "## 32.​ Write a Python script to generate and print a dictionary that contains a number (between 1 and n) in the form (x, x*x)."
   ]
  },
  {
   "cell_type": "code",
   "execution_count": 71,
   "metadata": {},
   "outputs": [
    {
     "name": "stdout",
     "output_type": "stream",
     "text": [
      "Enter a number:6\n",
      "{1: 1, 2: 4, 3: 9, 4: 16, 5: 25, 6: 36}\n"
     ]
    }
   ],
   "source": [
    "def generate_dict(n):\n",
    "    sq_dict ={}\n",
    "    for i in range(1,n+1):\n",
    "        sq_dict[i] = i*i\n",
    "    print(sq_dict)\n",
    "\n",
    "n = int(input(\"Enter a number:\"))\n",
    "generate_dict(n)\n",
    "\n",
    "        "
   ]
  },
  {
   "cell_type": "markdown",
   "metadata": {},
   "source": [
    "## 33.​ Write a Python script to print a dictionary where the keys are numbers between 1 and 15 (both included) and the values are square of keys\n",
    "    Sample Dictionary\n",
    "    {1: 1, 2: 4, 3: 9, 4: 16, 5: 25, 6: 36, 7: 49, 8: 64, 9: 81, 10: 100, 11: 121, 12: 144,\n",
    "    13: 169, 14: 196, 15: 225}"
   ]
  },
  {
   "cell_type": "code",
   "execution_count": 73,
   "metadata": {},
   "outputs": [
    {
     "name": "stdout",
     "output_type": "stream",
     "text": [
      "{1: 1, 2: 4, 3: 9, 4: 16, 5: 25, 6: 36, 7: 49, 8: 64, 9: 81, 10: 100, 11: 121, 12: 144, 13: 169, 14: 196, 15: 225}\n"
     ]
    }
   ],
   "source": [
    "d={}\n",
    "for x in range(1,16):\n",
    "    d[x]=x**2\n",
    "print(d) "
   ]
  },
  {
   "cell_type": "markdown",
   "metadata": {},
   "source": [
    "## 34.​ Write a Python script to merge two Python dictionaries."
   ]
  },
  {
   "cell_type": "code",
   "execution_count": 52,
   "metadata": {},
   "outputs": [
    {
     "name": "stdout",
     "output_type": "stream",
     "text": [
      "{1: 20, 2: 20, 3: 30, 4: 40}\n"
     ]
    }
   ],
   "source": [
    "def merge_dict(dict1, dict2):\n",
    "    dict1.update(dict2)\n",
    "    return dict1\n",
    "\n",
    "dict1 = {1:20, 2:20}\n",
    "dict2 = {3:30, 4:40}\n",
    "print(merge_dict(dict1, dict2))"
   ]
  },
  {
   "cell_type": "markdown",
   "metadata": {},
   "source": [
    "## 35.​ Write a Python program to iterate over dictionaries using for loops."
   ]
  },
  {
   "cell_type": "code",
   "execution_count": 53,
   "metadata": {},
   "outputs": [
    {
     "name": "stdout",
     "output_type": "stream",
     "text": [
      "Red : 1\n",
      "Green : 2\n",
      "Blue : 3\n"
     ]
    }
   ],
   "source": [
    "d ={'Red':1, 'Green':2, 'Blue':3}\n",
    "for key,value in d.items():\n",
    "    print(key,\":\",value )"
   ]
  },
  {
   "cell_type": "markdown",
   "metadata": {},
   "source": [
    "## 36.​ Write a Python program to sum all the items in a dictionary."
   ]
  },
  {
   "cell_type": "code",
   "execution_count": 75,
   "metadata": {},
   "outputs": [
    {
     "name": "stdout",
     "output_type": "stream",
     "text": [
      "Sum of values: 55\n"
     ]
    }
   ],
   "source": [
    "def sum_items_dict(dict1):\n",
    "    total=0\n",
    "    for key,value in dict1.items():\n",
    "        total = total + value\n",
    "    return total\n",
    "\n",
    "\n",
    "d = {1: 1, 2: 4, 3: 9, 4: 16, 5: 25}\n",
    "print(\"Sum of values:\",sum_items_dict(d))\n",
    "\n",
    "# print(sum(d.values()))\n",
    "        "
   ]
  },
  {
   "cell_type": "markdown",
   "metadata": {},
   "source": [
    "## 37.​ Write a Python program to multiply all the items in a dictionary."
   ]
  },
  {
   "cell_type": "code",
   "execution_count": 55,
   "metadata": {},
   "outputs": [
    {
     "name": "stdout",
     "output_type": "stream",
     "text": [
      "Product of values: 14400\n"
     ]
    }
   ],
   "source": [
    "def product_dict(items):\n",
    "    result = 1\n",
    "    for key in items:\n",
    "        result *= items[key]\n",
    "    return result\n",
    "\n",
    "d = {1: 1, 2: 4, 3: 9, 4: 16, 5: 25}\n",
    "print(\"Product of values:\",product_dict(d))\n"
   ]
  },
  {
   "cell_type": "markdown",
   "metadata": {},
   "source": [
    "## 38.​ Write a Python program to remove a key from a dictionary."
   ]
  },
  {
   "cell_type": "code",
   "execution_count": 56,
   "metadata": {},
   "outputs": [
    {
     "name": "stdout",
     "output_type": "stream",
     "text": [
      "{'a': 1, 'b': 2, 'c': 3, 'd': 4}\n",
      "{'b': 2, 'c': 3, 'd': 4}\n"
     ]
    }
   ],
   "source": [
    "def del_key(d,key):\n",
    "    print(d)\n",
    "    if key in d:\n",
    "        del d[key]\n",
    "    return d\n",
    "\n",
    "myDict = {'a':1,'b':2,'c':3,'d':4}\n",
    "key ='a'\n",
    "print(del_key(myDict, key))\n",
    "\n"
   ]
  },
  {
   "cell_type": "markdown",
   "metadata": {},
   "source": [
    "## 39.​ Write a Python program to unpack a tuple in several variables."
   ]
  },
  {
   "cell_type": "code",
   "execution_count": 57,
   "metadata": {},
   "outputs": [
    {
     "name": "stdout",
     "output_type": "stream",
     "text": [
      "apple\n",
      "banana\n",
      "cherry\n"
     ]
    }
   ],
   "source": [
    "fruits = (\"apple\", \"banana\", \"cherry\")\n",
    "(green, yellow, red) = fruits\n",
    "print(green)\n",
    "print(yellow)\n",
    "print(red)"
   ]
  },
  {
   "cell_type": "code",
   "execution_count": 58,
   "metadata": {},
   "outputs": [
    {
     "name": "stdout",
     "output_type": "stream",
     "text": [
      "apple\n",
      "banana\n",
      "['cherry', 'strawberry', 'raspberry']\n"
     ]
    }
   ],
   "source": [
    "fruits = (\"apple\", \"banana\", \"cherry\", \"strawberry\", \"raspberry\")\n",
    "\n",
    "(green, yellow, *red) = fruits\n",
    "\n",
    "print(green)\n",
    "print(yellow)\n",
    "print(red)"
   ]
  },
  {
   "cell_type": "code",
   "execution_count": 59,
   "metadata": {},
   "outputs": [
    {
     "name": "stdout",
     "output_type": "stream",
     "text": [
      "apple\n",
      "['mango', 'papaya', 'pineapple']\n",
      "cherry\n"
     ]
    }
   ],
   "source": [
    " fruits = (\"apple\", \"mango\", \"papaya\", \"pineapple\", \"cherry\")\n",
    "\n",
    "(green, *tropic, red) = fruits\n",
    "\n",
    "print(green)\n",
    "print(tropic)\n",
    "print(red)\n"
   ]
  },
  {
   "cell_type": "markdown",
   "metadata": {},
   "source": [
    "## 40.​ Write a Python program to add an item in a tuple."
   ]
  },
  {
   "cell_type": "code",
   "execution_count": 60,
   "metadata": {},
   "outputs": [
    {
     "name": "stdout",
     "output_type": "stream",
     "text": [
      "('apple', 'mango', 'papaya', 'pineapple', 'cherry')\n"
     ]
    }
   ],
   "source": [
    "def add_item_tuple(tup, idx, value):\n",
    "    tup_list = list(tup)\n",
    "    tup_list[idx] = value\n",
    "    return tuple(tup_list)\n",
    " \n",
    "    \n",
    "fruits = (\"apple\", \"mango\", \"papaya\", \"pineapple\", \"cherry\")\n",
    "print(add_item_tuple(fruits, 2, 'papaya'))"
   ]
  },
  {
   "cell_type": "markdown",
   "metadata": {},
   "source": [
    "## 41.​ Write a Python program to convert a tuple to a string."
   ]
  },
  {
   "cell_type": "code",
   "execution_count": 61,
   "metadata": {},
   "outputs": [
    {
     "name": "stdout",
     "output_type": "stream",
     "text": [
      "apple\n"
     ]
    }
   ],
   "source": [
    "def tuple_to_str(tup):\n",
    "#     tup_list = list(tup)\n",
    "    return \"\".join(tup)\n",
    "\n",
    "tup1 = ('a','p','p','l','e')\n",
    "print(tuple_to_str(tup1))"
   ]
  },
  {
   "cell_type": "markdown",
   "metadata": {},
   "source": [
    "## 42.​ Write a Python program to convert a list to a tuple."
   ]
  },
  {
   "cell_type": "code",
   "execution_count": 62,
   "metadata": {},
   "outputs": [
    {
     "name": "stdout",
     "output_type": "stream",
     "text": [
      "['a', 'p', 'p', 'l', 'e']\n"
     ]
    }
   ],
   "source": [
    "tup1 = ('a','p','p','l','e')\n",
    "tup1_list = list(tup1)\n",
    "assert isinstance(tup1_list, list), 'Not converted to a list'\n",
    "print(tup1_list)"
   ]
  },
  {
   "cell_type": "markdown",
   "metadata": {},
   "source": [
    "## 43.​ Write a Python program to remove an item from a tuple."
   ]
  },
  {
   "cell_type": "code",
   "execution_count": 63,
   "metadata": {},
   "outputs": [
    {
     "name": "stdout",
     "output_type": "stream",
     "text": [
      "(5, 7, 7, 2, 4, 7, 10, 8)\n",
      "('a', 'p', 'l', 'e')\n"
     ]
    }
   ],
   "source": [
    "# Remove a certain element from a tuple\n",
    "tup = (5, 6, 7,7, 2, 4, 6, 6, 6, 7,6, 10, 8)\n",
    "N=6\n",
    "rem = tuple(ele for ele in tup if ele!=N)\n",
    "print(rem)\n",
    "\n",
    "# Remove using index\n",
    "tup1 = ('a','p','p','l','e')\n",
    "idx = 2\n",
    "tup1 = tup1[:2] + tup1[3:]\n",
    "print(tup1)"
   ]
  },
  {
   "cell_type": "markdown",
   "metadata": {},
   "source": [
    "## 44. Write a Python program to slice a tuple."
   ]
  },
  {
   "cell_type": "code",
   "execution_count": 76,
   "metadata": {},
   "outputs": [
    {
     "name": "stdout",
     "output_type": "stream",
     "text": [
      "(3, 5, 4, 6)\n",
      "(3, 5, 4, 6, 7, 8, 6, 1)\n",
      "(2, 4, 3, 5, 4, 6)\n",
      "(3, 5, 4, 6)\n"
     ]
    }
   ],
   "source": [
    "def slice_tuple(tup,start=0, end=len(tup)):\n",
    "    _slice = tup[start:end]\n",
    "    return _slice\n",
    "\n",
    "tuplex = (2, 4, 3, 5, 4, 6, 7, 8, 6, 1)\n",
    "print(slice_tuple(tuplex,start=2,end=6))\n",
    "print(slice_tuple(tuplex,start=2))\n",
    "print(slice_tuple(tuplex,end=6))\n",
    "print(slice_tuple(tuplex,start=-8,end=-4))\n",
    "    "
   ]
  },
  {
   "cell_type": "markdown",
   "metadata": {},
   "source": [
    "## 45.​ Write a Python program to find the index of an item of a tuple."
   ]
  },
  {
   "cell_type": "code",
   "execution_count": 65,
   "metadata": {},
   "outputs": [
    {
     "name": "stdout",
     "output_type": "stream",
     "text": [
      "('H', 'e', 'l', 'l', 'o', ' ', 'w', 'o', 'r', 'l', 'd')\n",
      "4\n",
      "7\n",
      "8\n"
     ]
    },
    {
     "ename": "ValueError",
     "evalue": "tuple.index(x): x not in tuple",
     "output_type": "error",
     "traceback": [
      "\u001b[0;31m---------------------------------------------------------------------------\u001b[0m",
      "\u001b[0;31mValueError\u001b[0m                                Traceback (most recent call last)",
      "\u001b[0;32m<ipython-input-65-355c7181f474>\u001b[0m in \u001b[0;36m<module>\u001b[0;34m()\u001b[0m\n\u001b[1;32m     11\u001b[0m \u001b[0mprint\u001b[0m\u001b[0;34m(\u001b[0m\u001b[0mindex\u001b[0m\u001b[0;34m)\u001b[0m\u001b[0;34m\u001b[0m\u001b[0;34m\u001b[0m\u001b[0m\n\u001b[1;32m     12\u001b[0m \u001b[0;31m#if item not exists in the tuple return ValueError Exception\u001b[0m\u001b[0;34m\u001b[0m\u001b[0;34m\u001b[0m\u001b[0;34m\u001b[0m\u001b[0m\n\u001b[0;32m---> 13\u001b[0;31m \u001b[0mindex\u001b[0m \u001b[0;34m=\u001b[0m \u001b[0mtup\u001b[0m\u001b[0;34m.\u001b[0m\u001b[0mindex\u001b[0m\u001b[0;34m(\u001b[0m\u001b[0;34m'y'\u001b[0m\u001b[0;34m)\u001b[0m\u001b[0;34m\u001b[0m\u001b[0;34m\u001b[0m\u001b[0m\n\u001b[0m",
      "\u001b[0;31mValueError\u001b[0m: tuple.index(x): x not in tuple"
     ]
    }
   ],
   "source": [
    "tup = tuple(\"Hello world\")\n",
    "print(tup)\n",
    "#get index of the first item whose value is passed as parameter\n",
    "index = tup.index('o')\n",
    "print(index)\n",
    "#define the index from which you want to search\n",
    "index = tup.index('o',5)\n",
    "print(index)\n",
    "#define the segment of the tuple to be searched\n",
    "index = tup.index('r',5,9)\n",
    "print(index)\n",
    "#if item not exists in the tuple return ValueError Exception\n",
    "index = tup.index('y')"
   ]
  },
  {
   "cell_type": "markdown",
   "metadata": {},
   "source": [
    "## 46.​ Write a Python program to find the length of a tuple"
   ]
  },
  {
   "cell_type": "code",
   "execution_count": 66,
   "metadata": {},
   "outputs": [
    {
     "name": "stdout",
     "output_type": "stream",
     "text": [
      "('H', 'e', 'l', 'l', 'o', ' ', 'W', 'o', 'r', 'l', 'd', '!')\n",
      "12\n"
     ]
    }
   ],
   "source": [
    "#create a tuple\n",
    "tup = tuple(\"Hello World!\")\n",
    "print(tup)\n",
    "#use the len() function to known the length of tuple\n",
    "print(len(tup))"
   ]
  },
  {
   "cell_type": "code",
   "execution_count": null,
   "metadata": {},
   "outputs": [],
   "source": []
  }
 ],
 "metadata": {
  "kernelspec": {
   "display_name": "Python 3",
   "language": "python",
   "name": "python3"
  },
  "language_info": {
   "codemirror_mode": {
    "name": "ipython",
    "version": 3
   },
   "file_extension": ".py",
   "mimetype": "text/x-python",
   "name": "python",
   "nbconvert_exporter": "python",
   "pygments_lexer": "ipython3",
   "version": "3.7.9"
  }
 },
 "nbformat": 4,
 "nbformat_minor": 4
}
